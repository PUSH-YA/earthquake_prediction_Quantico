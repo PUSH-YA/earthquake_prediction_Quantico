{
 "cells": [
  {
   "cell_type": "code",
   "execution_count": 1,
   "id": "0d875b00",
   "metadata": {},
   "outputs": [],
   "source": [
    "import pandas as pd \n",
    "import numpy as np\n"
   ]
  },
  {
   "cell_type": "code",
   "execution_count": 2,
   "id": "fa8e6347",
   "metadata": {},
   "outputs": [
    {
     "data": {
      "text/html": [
       "<div>\n",
       "<style scoped>\n",
       "    .dataframe tbody tr th:only-of-type {\n",
       "        vertical-align: middle;\n",
       "    }\n",
       "\n",
       "    .dataframe tbody tr th {\n",
       "        vertical-align: top;\n",
       "    }\n",
       "\n",
       "    .dataframe thead th {\n",
       "        text-align: right;\n",
       "    }\n",
       "</style>\n",
       "<table border=\"1\" class=\"dataframe\">\n",
       "  <thead>\n",
       "    <tr style=\"text-align: right;\">\n",
       "      <th></th>\n",
       "      <th>Categorized State</th>\n",
       "      <th>Hidden State</th>\n",
       "    </tr>\n",
       "  </thead>\n",
       "  <tbody>\n",
       "    <tr>\n",
       "      <th>0</th>\n",
       "      <td>3</td>\n",
       "      <td>3</td>\n",
       "    </tr>\n",
       "    <tr>\n",
       "      <th>1</th>\n",
       "      <td>3</td>\n",
       "      <td>3</td>\n",
       "    </tr>\n",
       "    <tr>\n",
       "      <th>2</th>\n",
       "      <td>3</td>\n",
       "      <td>3</td>\n",
       "    </tr>\n",
       "    <tr>\n",
       "      <th>3</th>\n",
       "      <td>3</td>\n",
       "      <td>3</td>\n",
       "    </tr>\n",
       "    <tr>\n",
       "      <th>4</th>\n",
       "      <td>-3</td>\n",
       "      <td>3</td>\n",
       "    </tr>\n",
       "    <tr>\n",
       "      <th>...</th>\n",
       "      <td>...</td>\n",
       "      <td>...</td>\n",
       "    </tr>\n",
       "    <tr>\n",
       "      <th>15800</th>\n",
       "      <td>3</td>\n",
       "      <td>3</td>\n",
       "    </tr>\n",
       "    <tr>\n",
       "      <th>15801</th>\n",
       "      <td>3</td>\n",
       "      <td>3</td>\n",
       "    </tr>\n",
       "    <tr>\n",
       "      <th>15802</th>\n",
       "      <td>3</td>\n",
       "      <td>3</td>\n",
       "    </tr>\n",
       "    <tr>\n",
       "      <th>15803</th>\n",
       "      <td>-3</td>\n",
       "      <td>3</td>\n",
       "    </tr>\n",
       "    <tr>\n",
       "      <th>15804</th>\n",
       "      <td>-3</td>\n",
       "      <td>3</td>\n",
       "    </tr>\n",
       "  </tbody>\n",
       "</table>\n",
       "<p>15805 rows × 2 columns</p>\n",
       "</div>"
      ],
      "text/plain": [
       "       Categorized State  Hidden State\n",
       "0                      3             3\n",
       "1                      3             3\n",
       "2                      3             3\n",
       "3                      3             3\n",
       "4                     -3             3\n",
       "...                  ...           ...\n",
       "15800                  3             3\n",
       "15801                  3             3\n",
       "15802                  3             3\n",
       "15803                 -3             3\n",
       "15804                 -3             3\n",
       "\n",
       "[15805 rows x 2 columns]"
      ]
     },
     "execution_count": 2,
     "metadata": {},
     "output_type": "execute_result"
    }
   ],
   "source": [
    "states = pd.read_csv('state_comparison.csv')\n",
    "states"
   ]
  },
  {
   "cell_type": "code",
   "execution_count": 3,
   "id": "a40f3077",
   "metadata": {},
   "outputs": [
    {
     "name": "stdout",
     "output_type": "stream",
     "text": [
      "Categorized State\n",
      "-3    11858\n",
      " 3     3785\n",
      " 4      155\n",
      " 5        7\n",
      "Name: count, dtype: int64 \n",
      "\n",
      "Hidden State\n",
      "3    15805\n",
      "Name: count, dtype: int64\n"
     ]
    }
   ],
   "source": [
    "output = states['Categorized State']\n",
    "expected = states['Hidden State']\n",
    "\n",
    "print(output.value_counts().sort_index(), '\\n')\n",
    "print(expected.value_counts().sort_index())"
   ]
  },
  {
   "cell_type": "code",
   "execution_count": 4,
   "id": "c43ab921",
   "metadata": {},
   "outputs": [
    {
     "name": "stdout",
     "output_type": "stream",
     "text": [
      "Matched states : 3785; \t Accuracy: 23.95%\n",
      "Matched within 1 state: 3940; \t Accuracy within 1 state: 24.93%\n"
     ]
    }
   ],
   "source": [
    "matched_states = np.sum(expected == output)\n",
    "matched_within_1_state = np.sum(np.abs(expected - output) <= 1)\n",
    "print(f'Matched states : {matched_states}; \\t Accuracy: {matched_states / len(expected):.2%}')\n",
    "print(f'Matched within 1 state: {matched_within_1_state}; \\t Accuracy within 1 state: {matched_within_1_state / len(states):.2%}')"
   ]
  },
  {
   "cell_type": "code",
   "execution_count": 5,
   "id": "b504f428",
   "metadata": {},
   "outputs": [
    {
     "data": {
      "text/plain": [
       "np.float64(75.02689022461246)"
      ]
     },
     "execution_count": 5,
     "metadata": {},
     "output_type": "execute_result"
    }
   ],
   "source": [
    "np.sum(output == -3) / len(output) * 100"
   ]
  }
 ],
 "metadata": {
  "kernelspec": {
   "display_name": "base",
   "language": "python",
   "name": "python3"
  },
  "language_info": {
   "codemirror_mode": {
    "name": "ipython",
    "version": 3
   },
   "file_extension": ".py",
   "mimetype": "text/x-python",
   "name": "python",
   "nbconvert_exporter": "python",
   "pygments_lexer": "ipython3",
   "version": "3.13.2"
  }
 },
 "nbformat": 4,
 "nbformat_minor": 5
}
