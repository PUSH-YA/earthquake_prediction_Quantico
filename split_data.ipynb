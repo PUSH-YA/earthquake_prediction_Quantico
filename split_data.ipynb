{
 "cells": [
  {
   "cell_type": "code",
   "execution_count": 6,
   "id": "8de51d7b",
   "metadata": {},
   "outputs": [],
   "source": [
    "import pandas as pd \n",
    "data = pd.read_csv('All Earthquakes.csv')\n"
   ]
  },
  {
   "cell_type": "code",
   "execution_count": 10,
   "id": "388c807f",
   "metadata": {},
   "outputs": [],
   "source": [
    "split = 0.8\n",
    "N_train = int(data.shape[0]*split)\n",
    "\n",
    "\n",
    "data_train = data.iloc[:N_train, :]\n",
    "data_test = data.iloc[N_train:, :]\n",
    "\n",
    "data_train.to_csv('./final_HMM/data/training_earthquakes.csv', index=False)\n",
    "data_test.to_csv('./final_HMM/data/testing_earthquakes.csv', index=False)"
   ]
  }
 ],
 "metadata": {
  "kernelspec": {
   "display_name": "base",
   "language": "python",
   "name": "python3"
  },
  "language_info": {
   "codemirror_mode": {
    "name": "ipython",
    "version": 3
   },
   "file_extension": ".py",
   "mimetype": "text/x-python",
   "name": "python",
   "nbconvert_exporter": "python",
   "pygments_lexer": "ipython3",
   "version": "3.13.2"
  }
 },
 "nbformat": 4,
 "nbformat_minor": 5
}
