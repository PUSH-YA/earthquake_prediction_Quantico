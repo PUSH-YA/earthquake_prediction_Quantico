{
 "cells": [
  {
   "cell_type": "code",
   "execution_count": 3,
   "id": "8de51d7b",
   "metadata": {},
   "outputs": [],
   "source": [
    "import pandas as pd \n",
    "import matplotlib.pyplot as plt \n",
    "\n",
    "data = pd.read_csv('All Earthquakes.csv')\n",
    "training = pd.read_csv('final_HMM/data/training_earthquakes.csv')\n",
    "testing = pd.read_csv('final_HMM/data/testing_earthquakes.csv')"
   ]
  },
  {
   "cell_type": "code",
   "execution_count": 4,
   "id": "388c807f",
   "metadata": {},
   "outputs": [
    {
     "data": {
      "text/plain": [
       "['random_standard_scaler.joblib']"
      ]
     },
     "execution_count": 4,
     "metadata": {},
     "output_type": "execute_result"
    }
   ],
   "source": [
    "from sklearn.preprocessing import StandardScaler\n",
    "import joblib\n",
    "import numpy as np\n",
    "\n",
    "# create a random StandardScaler (fit on random data)\n",
    "random_data = np.random.randn(100, 4)\n",
    "scaler = StandardScaler().fit(random_data)\n",
    "\n",
    "joblib.dump(scaler, 'random_standard_scaler.joblib')"
   ]
  }
 ],
 "metadata": {
  "kernelspec": {
   "display_name": "base",
   "language": "python",
   "name": "python3"
  },
  "language_info": {
   "codemirror_mode": {
    "name": "ipython",
    "version": 3
   },
   "file_extension": ".py",
   "mimetype": "text/x-python",
   "name": "python",
   "nbconvert_exporter": "python",
   "pygments_lexer": "ipython3",
   "version": "3.13.2"
  }
 },
 "nbformat": 4,
 "nbformat_minor": 5
}
