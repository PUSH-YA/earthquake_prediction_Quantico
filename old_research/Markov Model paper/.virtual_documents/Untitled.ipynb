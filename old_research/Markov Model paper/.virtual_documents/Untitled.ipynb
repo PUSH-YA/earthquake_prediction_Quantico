import numpy as np
import pandas as pd
from hmmlearn import hmm
import matplotlib.pyplot as plt
from sklearn.preprocessing import StandardScaler
from datetime import datetime


df = pd.read_csv("All Earthquakes.csv")
df.head(5)


# Convert date to datetime and extract features
df['datetime'] = pd.to_datetime(df['Orgin date'])
df['timestamp'] = df['datetime'].astype(np.int64) // 10**9  # Unix timestamp
df['days_since_first'] = (df['datetime'] - df['datetime'].min()).dt.total_seconds() / 86400


# Select features and target
features = ['Longitude(E)', 'Latitude(N)', 'days_since_first']
targets = ['Magnitude', 'Depth']

# Standardize features
scaler = StandardScaler()
X = scaler.fit_transform(df[features])
y = df[targets].values

# Combine features and targets for HMM
data = np.column_stack((X, y))





class EarthquakePredictor:
    def __init__(self, n_components=3):
        self.n_components = n_components
        self.model = hmm.GaussianHMM(
            n_components=n_components,
            covariance_type="diag",
            # inspired from example I saw online
            n_iter=1000,
            random_state=42
        )
        self.scaler = StandardScaler()
        
    def fit(self, X, y):
        """Fit the HMM model"""
        # Standardize features
        X_scaled = self.scaler.fit_transform(X)
        # Combine features and targets
        data = np.column_stack((X_scaled, y))
        self.model.fit(data)
        return self
        
    def predict(self, X):
        """Predict magnitude and depth for given features"""
        X_scaled = self.scaler.transform(X)
        # Predict the most likely state sequence
        states = self.model.predict(np.column_stack((X_scaled, np.zeros((len(X_scaled), 2)))))
        # Get the mean values for each state
        preds = np.array([self.model.means_[state][3:5] for state in states])
        return preds, states
    
    def forecast_next(self, n_steps=1):
        """Forecast future earthquakes"""
        # Get current state
        current_state = self.model.predict(data[-1:])[0]
        
        # Generate samples from current state
        samples, states = self.model.sample(n_steps, current_state)
        
        # Inverse transform the features
        features_scaled = samples[:, :3]
        features = self.scaler.inverse_transform(features_scaled)
        
        # Extract predictions
        preds = samples[:, 3:5]
        
        # Create datetime from days_since_first
        last_date = df['datetime'].max()
        dates = [last_date + pd.Timedelta(days=float(days)) 
                for days in (features[:, 2] - features[0, 2])]
        
        results = pd.DataFrame({
            'date': dates,
            'longitude': features[:, 0],
            'latitude': features[:, 1],
            'pred_magnitude': preds[:, 0],
            'pred_depth': preds[:, 1],
            'state': states
        })
        
        return results

    def get_transmat(self):
        return self.model.transmat_ 





# Initialize and train the model
predictor = EarthquakePredictor(n_components=3)
predictor.fit(df[features], df[targets])

# Predict on training data
preds, states = predictor.predict(df[features])

# Add predictions to dataframe
df['pred_magnitude'] = preds[:, 0]
df['pred_depth'] = preds[:, 1]
df['state'] = states

# Evaluate predictions
magnitude_mae = np.mean(np.abs(df['Magnitude'] - df['pred_magnitude']))
depth_mae = np.mean(np.abs(df['Depth'] - df['pred_depth']))

print(f"Magnitude MAE: {magnitude_mae:.2f}")
print(f"Depth MAE: {depth_mae:.2f}")





# Plot states over time
plt.figure(figsize=(12, 6))
plt.scatter(df['datetime'], df['Magnitude'], c=df['state'], cmap='viridis')
plt.colorbar(label='Hidden State')
plt.xlabel('Date')
plt.ylabel('Magnitude')
plt.title('Earthquake Magnitudes Colored by Hidden State')
plt.show()

# Plot spatial distribution of states
plt.figure(figsize=(10, 8))
plt.scatter(df['Longitude(E)'], df['Latitude(N)'], c=df['state'], cmap='viridis', s=df['Magnitude']*10)
plt.colorbar(label='Hidden State')
plt.xlabel('Longitude')
plt.ylabel('Latitude')
plt.title('Earthquake Locations Colored by Hidden State (Size = Magnitude)')
plt.show()








# Forecast next 5 earthquakes
forecast = predictor.forecast_next(n_steps=5)
print(forecast[['date', 'longitude', 'latitude', 'pred_magnitude', 'pred_depth', 'state']])


transmat = predictor.get_transmat()
transmat_int = (transmat * 100).astype(int)

# Create the heatmap
fig, ax = plt.subplots(figsize=(6, 6))
im = ax.imshow(transmat_int, aspect='auto', cmap='viridis')
cbar = ax.figure.colorbar(im, ax=ax)
cbar.ax.set_ylabel('Transition Probability (%)', rotation=-90, va="bottom")
for i in range(transmat_int.shape[0]):
    for j in range(transmat_int.shape[1]):
        ax.text(j, i, f'{transmat_int[i, j]}%', ha='center', va='center', color='white')   
ax.set_title('Transition Matrix')
ax.set_xlabel('State To')
ax.set_ylabel('State From')
ax.set_xticks(np.arange(transmat_int.shape[1]))
ax.set_yticks(np.arange(transmat_int.shape[0]))
ax.set_xticklabels([f'State {i+1}' for i in range(transmat_int.shape[1])])
ax.set_yticklabels([f'State {i+1}' for i in range(transmat_int.shape[0])])
plt.xticks(rotation=45)
plt.tight_layout()
plt.show()
plt.savefig("GaussianHMM_transmat.png")








bic_scores = predictor.get_bicscores()
plt.plot(range(2, 8), bic_scores)
plt.xlabel('Number of states')
plt.ylabel('BIC score')
plt.title('Model Selection by BIC')
plt.show()


bic_scores
