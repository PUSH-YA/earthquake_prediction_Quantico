


import numpy as np
import pandas as pd
import matplotlib.pyplot as plt 
from scipy.stats import poisson
from hmmlearn import hmm


df = pd.read_csv("All Earthquakes.csv")
df.head(5)


# years = pd.to_datetime(df['Orgin date']).dt.year
# months = pd.to_datetime(df['Orgin date']).dt.month

# dates = pd.DataFrame({'years': years, 'months': months})

# counts = dates.groupby(['years', 'months']).size()
# plt.plot(np.array(counts))





# scores = list()
# models = list()

# earthquakes = np.array(counts).reshape(-1,1)

# for n_components in range(1, 5):
#     for idx in range(10):  # ten different random starting states
#         # define our hidden Markov model
#         model = hmm.PoissonHMM(n_components=n_components, random_state=idx,
#                                n_iter=10)
#         model.fit(earthquakes)
#         models.append(model)
#         scores.append(model.score(earthquakes))
#         print(f'Converged: {model.monitor_.converged}\t\t'
#               f'Score: {scores[-1]}')

# # get the best model
# model = models[np.argmax(scores)]
# print(f'The best model had a score of {max(scores)} and '
#       f'{model.n_components} components')

# # use the Viterbi algorithm to predict the most likely sequence of states
# # given the model
# states = model.predict(earthquakes)


# fig, ax = plt.subplots()
# ax.plot(model.lambdas_[states], ".-", ms=6, mfc="orange")
# ax.plot(earthquakes)
# ax.set_title('States compared to generated')
# ax.set_xlabel('State')





# transmat_int = (model.transmat_ * 100).astype(int)

# # Create the heatmap
# fig, ax = plt.subplots(figsize=(6, 6))
# im = ax.imshow(transmat_int, aspect='auto', cmap='viridis')
# cbar = ax.figure.colorbar(im, ax=ax)
# cbar.ax.set_ylabel('Transition Probability (%)', rotation=-90, va="bottom")
# for i in range(transmat_int.shape[0]):
#     for j in range(transmat_int.shape[1]):
#         ax.text(j, i, f'{transmat_int[i, j]}%', ha='center', va='center', color='white')   
# ax.set_title('Transition Matrix')
# ax.set_xlabel('State To')
# ax.set_ylabel('State From')
# ax.set_xticks(np.arange(transmat_int.shape[1]))
# ax.set_yticks(np.arange(transmat_int.shape[0]))
# ax.set_xticklabels([f'State {i+1}' for i in range(transmat_int.shape[1])])
# ax.set_yticklabels([f'State {i+1}' for i in range(transmat_int.shape[0])])
# plt.xticks(rotation=45)
# plt.tight_layout()
# plt.show()





# prop_per_state = model.predict_proba(earthquakes).mean(axis=0)

# # earthquake counts to plot
# bins = sorted(np.unique(earthquakes))

# fig, ax = plt.subplots()
# ax.hist(earthquakes, bins=bins, density=True)
# ax.plot(bins, poisson.pmf(bins, model.lambdas_).T @ prop_per_state)
# ax.set_title('Histogram of Earthquakes with Fitted Poisson States')
# ax.set_xlabel('Number of Earthquakes')
# ax.set_ylabel('Proportion')

# plt.show()





# counts = dates.groupby(['years']).size()
# scores = list()
# models = list()

# earthquakes = np.array(counts).reshape(-1,1)

# for n_components in range(1, 5):
#     for idx in range(10):  # ten different random starting states
#         # define our hidden Markov model
#         model = hmm.PoissonHMM(n_components=n_components, random_state=idx,
#                                n_iter=10)
#         model.fit(earthquakes)
#         models.append(model)
#         scores.append(model.score(earthquakes))
#         print(f'Converged: {model.monitor_.converged}\t\t'
#               f'Score: {scores[-1]}')

# # get the best model
# model = models[np.argmax(scores)]
# print(f'The best model had a score of {max(scores)} and '
#       f'{model.n_components} components')

# # use the Viterbi algorithm to predict the most likely sequence of states
# # given the model
# states = model.predict(earthquakes)


# fig, ax = plt.subplots()
# ax.plot(model.lambdas_[states], ".-", ms=6, mfc="orange")
# ax.plot(earthquakes)
# ax.set_title('States compared to generated')
# ax.set_xlabel('State')


# transmat_int = (model.transmat_ * 100).astype(int)

# # Create the heatmap
# fig, ax = plt.subplots(figsize=(6, 6))
# im = ax.imshow(transmat_int, aspect='auto', cmap='viridis')
# cbar = ax.figure.colorbar(im, ax=ax)
# cbar.ax.set_ylabel('Transition Probability (%)', rotation=-90, va="bottom")
# for i in range(transmat_int.shape[0]):
#     for j in range(transmat_int.shape[1]):
#         ax.text(j, i, f'{transmat_int[i, j]}%', ha='center', va='center', color='white')   
# ax.set_title('Transition Matrix')
# ax.set_xlabel('State To')
# ax.set_ylabel('State From')
# ax.set_xticks(np.arange(transmat_int.shape[1]))
# ax.set_yticks(np.arange(transmat_int.shape[0]))
# ax.set_xticklabels([f'State {i+1}' for i in range(transmat_int.shape[1])])
# ax.set_yticklabels([f'State {i+1}' for i in range(transmat_int.shape[0])])
# plt.xticks(rotation=45)
# plt.tight_layout()
# plt.show()


# prop_per_state = model.predict_proba(earthquakes).mean(axis=0)

# # earthquake counts to plot
# bins = sorted(np.unique(earthquakes))

# fig, ax = plt.subplots()
# ax.hist(earthquakes, bins=bins, density=True)
# ax.plot(bins, poisson.pmf(bins, model.lambdas_).T @ prop_per_state)
# ax.set_title('Histogram of Earthquakes with Fitted Poisson States')
# ax.set_xlabel('Number of Earthquakes')
# ax.set_ylabel('Proportion')

# plt.show()





years = pd.to_datetime(df['Orgin date']).dt.year
months = pd.to_datetime(df['Orgin date']).dt.month
days = pd.to_datetime(df['Orgin date']).dt.day

dates = pd.DataFrame({'years': years, 'months': months, 'days': days})

counts = dates.groupby(['years', 'months', 'days']).size()
plt.plot(np.array(counts))


scores = list()
models = list()

earthquakes = np.array(counts).reshape(-1,1)

for n_components in range(1, 5):
    for idx in range(5):  # ten different random starting states
        # define our hidden Markov model
        model = hmm.PoissonHMM(n_components=n_components, random_state=idx,
                               n_iter=10)
        model.fit(earthquakes)
        models.append(model)
        scores.append(model.score(earthquakes))
        # print(f'Converged: {model.monitor_.converged}\t\t'
        #       f'Score: {scores[-1]}')

# get the best model
model1 = models[np.argmax(scores)]
print(f'The best model had a score of {max(scores)} and '
      f'{model.n_components} components')

# use the Viterbi algorithm to predict the most likely sequence of states
# given the model
states = model1.predict(earthquakes)


scores = list()
models = list()

earthquakes = np.array(counts).reshape(-1,1)

for n_components in range(1, 10):
    for idx in range(10):  # ten different random starting states
        # define our hidden Markov model
        model = hmm.PoissonHMM(n_components=n_components, random_state=idx,
                               n_iter=10)
        model.fit(earthquakes)
        models.append(model)
        scores.append(model.score(earthquakes))
        # print(f'Converged: {model.monitor_.converged}\t\t'
        #       f'Score: {scores[-1]}')

# get the best model
model2 = models[np.argmax(scores)]
print(f'The best model had a score of {max(scores)} and '
      f'{model.n_components} components')

# use the Viterbi algorithm to predict the most likely sequence of states
# given the model
states = model2.predict(earthquakes)


scores = list()
models = list()

earthquakes = np.array(counts).reshape(-1,1)

for n_components in range(1, 20):
    for idx in range(10):  # ten different random starting states
        # define our hidden Markov model
        model = hmm.PoissonHMM(n_components=n_components, random_state=idx,
                               n_iter=10)
        model.fit(earthquakes)
        models.append(model)
        scores.append(model.score(earthquakes))
        # print(f'Converged: {model.monitor_.converged}\t\t'
        #       f'Score: {scores[-1]}')

# get the best model
model3 = models[np.argmax(scores)]
print(f'The best model had a score of {max(scores)} and '
      f'{model.n_components} components')

# use the Viterbi algorithm to predict the most likely sequence of states
# given the model
states = model3.predict(earthquakes)


# use the Viterbi algorithm to predict the most likely sequence of states
# given the model
# states = model1.predict(earthquakes)
# fig, ax = plt.subplots()
# ax.plot(model.lambdas_[states], ".-", ms=6, mfc="orange")
# ax.plot(earthquakes)
# ax.set_title('States compared to generated')
# ax.set_xlabel('State')


transmat_int1 = (model1.transmat_ * 100).astype(int)
transmat_int2 = (model2.transmat_ * 100).astype(int)
transmat_int3 = (model3.transmat_ * 100).astype(int)

# Create the heatmap
fig, ax = plt.subplots(figsize=(6, 6))
im = ax.imshow(transmat_int1, aspect='auto', cmap='viridis')
cbar = ax.figure.colorbar(im, ax=ax)
cbar.ax.set_ylabel('Transition Probability (%)', rotation=-90, va="bottom")
for i in range(transmat_int1.shape[0]):
    for j in range(transmat_int1.shape[1]):
        ax.text(j, i, f'{transmat_int1[i, j]}%', ha='center', va='center', color='white')   
ax.set_title('Transition Matrix')
ax.set_xlabel('State To')
ax.set_ylabel('State From')
ax.set_xticks(np.arange(transmat_int1.shape[1]))
ax.set_yticks(np.arange(transmat_int1.shape[0]))
ax.set_xticklabels([f'State {i+1}' for i in range(transmat_int1.shape[1])])
ax.set_yticklabels([f'State {i+1}' for i in range(transmat_int1.shape[0])])
plt.xticks(rotation=45)
plt.tight_layout()
plt.show()
plt.savefig("trans_mat_daily_prob_5.png")


fig, ax = plt.subplots(figsize=(6, 6))
im = ax.imshow(transmat_int2, aspect='auto', cmap='viridis')
cbar = ax.figure.colorbar(im, ax=ax)
cbar.ax.set_ylabel('Transition Probability (%)', rotation=-90, va="bottom")
for i in range(transmat_int2.shape[0]):
    for j in range(transmat_int2.shape[1]):
        ax.text(j, i, f'{transmat_int2[i, j]}%', ha='center', va='center', color='white')   
ax.set_title('Transition Matrix')
ax.set_xlabel('State To')
ax.set_ylabel('State From')
ax.set_xticks(np.arange(transmat_int2.shape[1]))
ax.set_yticks(np.arange(transmat_int2.shape[0]))
ax.set_xticklabels([f'State {i+1}' for i in range(transmat_int2.shape[1])])
ax.set_yticklabels([f'State {i+1}' for i in range(transmat_int2.shape[0])])
plt.xticks(rotation=45)
plt.tight_layout()
plt.show()
plt.savefig("trans_mat_daily_prob_10.png")


fig, ax = plt.subplots(figsize=(6, 6))
im = ax.imshow(transmat_int3, aspect='auto', cmap='viridis')
cbar = ax.figure.colorbar(im, ax=ax)
cbar.ax.set_ylabel('Transition Probability (%)', rotation=-90, va="bottom")
for i in range(transmat_int3.shape[0]):
    for j in range(transmat_int3.shape[1]):
        ax.text(j, i, f'{transmat_int3[i, j]}%', ha='center', va='center', color='white')   
ax.set_title('Transition Matrix')
ax.set_xlabel('State To')
ax.set_ylabel('State From')
ax.set_xticks(np.arange(transmat_int3.shape[1]))
ax.set_yticks(np.arange(transmat_int3.shape[0]))
ax.set_xticklabels([f'State {i+1}' for i in range(transmat_int3.shape[1])])
ax.set_yticklabels([f'State {i+1}' for i in range(transmat_int3.shape[0])])
plt.xticks(rotation=45)
plt.tight_layout()
plt.show()
plt.savefig("trans_mat_daily_prob_20.png")

# prop_per_state = model.predict_proba(earthquakes).mean(axis=0)

# # earthquake counts to plot
# bins = sorted(np.unique(earthquakes))

# fig, ax = plt.subplots()
# ax.hist(earthquakes, bins=bins, density=True)
# ax.plot(bins, poisson.pmf(bins, model.lambdas_).T @ prop_per_state)
# ax.set_title('Histogram of Earthquakes with Fitted Poisson States')
# ax.set_xlabel('Number of Earthquakes')
# ax.set_ylabel('Proportion')

plt.show()



