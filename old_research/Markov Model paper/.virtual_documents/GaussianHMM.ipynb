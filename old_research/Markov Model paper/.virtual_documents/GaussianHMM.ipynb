import numpy as np
import pandas as pd
import matplotlib.pyplot as plt 
from scipy.stats import poisson
from hmmlearn import hmm


df = pd.read_csv("All Earthquakes.csv")
df.head(5)



